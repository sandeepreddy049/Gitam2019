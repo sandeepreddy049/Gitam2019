{
 "cells": [
  {
   "cell_type": "code",
   "execution_count": 3,
   "metadata": {},
   "outputs": [
    {
     "name": "stdout",
     "output_type": "stream",
     "text": [
      "Item is not found\n"
     ]
    }
   ],
   "source": [
    "def binarysearch(a,lIndex,rIndex,tarItem):\n",
    "    while lIndex <= rIndex:\n",
    "        mIndex=lIndex + (rIndex-lIndex)//2;\n",
    "        if a[mIndex] == tarItem:\n",
    "                return mIndex\n",
    "        if a[mIndex] > tarItem:\n",
    "            rIndex = mIndex - 1\n",
    "        else:\n",
    "            lIndex = mIndex + 1\n",
    "    return -1\n",
    "list1= [1,4,5,9,15,25,45,57,88,98]\n",
    "res = binarysearch(list1,0,8,818)\n",
    "if res != -1:\n",
    "    print(\"Item is Found\")\n",
    "else:         \n",
    "    print(\"Item is not found\")\n",
    "            \n",
    "            \n"
   ]
  },
  {
   "cell_type": "code",
   "execution_count": null,
   "metadata": {},
   "outputs": [],
   "source": []
  },
  {
   "cell_type": "code",
   "execution_count": 8,
   "metadata": {},
   "outputs": [
    {
     "name": "stdout",
     "output_type": "stream",
     "text": [
      "1 3 6 18 19 25 "
     ]
    }
   ],
   "source": [
    "def bubblesort(a):\n",
    "    for i in range(len(a)-1):\n",
    "        for j in range(len(a)-1):\n",
    "            if a[j] > a[j+1]:\n",
    "                a[j],a[j+1] = a[j+1],a[j]\n",
    "                \n",
    "    for i in range(len(a)):\n",
    "        print(a[i],end=\" \")\n",
    "\n",
    "lst1 = [19,1,25,6,18,3]\n",
    "bubblesort(lst1)\n"
   ]
  },
  {
   "cell_type": "code",
   "execution_count": 9,
   "metadata": {},
   "outputs": [
    {
     "name": "stdout",
     "output_type": "stream",
     "text": [
      "Applicaton\n",
      "Application\n",
      "Application Test\n",
      "        working\n",
      "        completed\n",
      "        list\n",
      "        strings\n",
      "        python \n"
     ]
    }
   ],
   "source": [
    "#creating a string\n",
    "str=\"Applicaton\"\n",
    "print(str)\n",
    "\n",
    "str1='Application'\n",
    "print(str1)\n",
    "\n",
    "str2 =\"\"\"Application Test\n",
    "        working\n",
    "        completed\n",
    "        list\n",
    "        strings\n",
    "        python \"\"\"\n",
    "print(str2)print(\"str[0] = \",str[0])"
   ]
  },
  {
   "cell_type": "code",
   "execution_count": 10,
   "metadata": {},
   "outputs": [
    {
     "name": "stdout",
     "output_type": "stream",
     "text": [
      "Application\n",
      "str[0] =  A\n",
      "str[1] =  p\n",
      "str[-1] =  n\n",
      "str[-3] =  i\n",
      "str[1:5] =  ppli\n",
      "str[:5] =  Appli\n",
      "str[5:-2] =  cati\n",
      "str[::-1] =  noitacilppA\n"
     ]
    }
   ],
   "source": [
    "str= \"Application\"\n",
    "print(str)\n",
    "print(\"str[0] = \",str[0])\n",
    "print(\"str[1] = \",str[1])\n",
    "print(\"str[-1] = \",str[-1])\n",
    "print(\"str[-3] = \",str[-3])\n",
    "print(\"str[1:5] = \",str[1:5])\n",
    "print(\"str[:5] = \",str[:5])\n",
    "print(\"str[5:-2] = \",str[5:-2])\n",
    "print(\"str[::-1] = \",str[::-1])#used for reverse the string"
   ]
  },
  {
   "cell_type": "code",
   "execution_count": 1,
   "metadata": {},
   "outputs": [
    {
     "name": "stdout",
     "output_type": "stream",
     "text": [
      "1\n",
      "2\n"
     ]
    }
   ],
   "source": [
    "def countuppercase(str):\n",
    "    cnt=0\n",
    "    lst=list(str)\n",
    "    for x in range(len(lst)):\n",
    "        if ord(lst[x]) >=65 and ord(lst[x]) <= 90:\n",
    "            cnt = cnt + 1\n",
    "    return cnt\n",
    "\n",
    "print(countuppercase(\"Application\"))\n",
    "\n",
    "print(countuppercase(\"TesT\"))"
   ]
  },
  {
   "cell_type": "code",
   "execution_count": null,
   "metadata": {},
   "outputs": [],
   "source": []
  }
 ],
 "metadata": {
  "kernelspec": {
   "display_name": "Python 3",
   "language": "python",
   "name": "python3"
  },
  "language_info": {
   "codemirror_mode": {
    "name": "ipython",
    "version": 3
   },
   "file_extension": ".py",
   "mimetype": "text/x-python",
   "name": "python",
   "nbconvert_exporter": "python",
   "pygments_lexer": "ipython3",
   "version": "3.7.3"
  }
 },
 "nbformat": 4,
 "nbformat_minor": 2
}
